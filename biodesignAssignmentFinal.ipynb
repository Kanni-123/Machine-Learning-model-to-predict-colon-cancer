{
 "cells": [
  {
   "cell_type": "markdown",
   "id": "a24948db-fe7a-41f9-9051-5c8b0728fc5e",
   "metadata": {},
   "source": [
    "<div style=\"text-align:center;\"><h1> Biodesign Innovation Labs Assignment </div>"
   ]
  },
  {
   "cell_type": "markdown",
   "id": "cffd6469-8132-4f1b-ba24-176d0a3c8d39",
   "metadata": {},
   "source": [
    "### Import Necessary Libraries"
   ]
  },
  {
   "cell_type": "code",
   "execution_count": 164,
   "id": "7d7fe3fc-b70e-4d3e-8dfc-94e18bc09649",
   "metadata": {},
   "outputs": [],
   "source": [
    "import pandas as pd\n",
    "import numpy as np\n",
    "import matplotlib.pyplot as plt\n",
    "import seaborn as sns\n",
    "import warnings\n",
    "warnings.filterwarnings('ignore')"
   ]
  },
  {
   "cell_type": "markdown",
   "id": "37629681-27ee-4795-864a-5dac3886f73b",
   "metadata": {},
   "source": [
    "### Import datasets"
   ]
  },
  {
   "cell_type": "code",
   "execution_count": 165,
   "id": "13681c80-8ab5-49f9-8668-087b0dcb9787",
   "metadata": {},
   "outputs": [],
   "source": [
    "df1=pd.read_csv('dataset_1_colon_cancer.csv')\n",
    "df2=pd.read_csv('dataset_2_colon_cancer.csv')"
   ]
  },
  {
   "cell_type": "code",
   "execution_count": 166,
   "id": "a0b409c7-e8d1-4195-ae6a-8b5509ec7529",
   "metadata": {},
   "outputs": [
    {
     "data": {
      "text/html": [
       "<div>\n",
       "<style scoped>\n",
       "    .dataframe tbody tr th:only-of-type {\n",
       "        vertical-align: middle;\n",
       "    }\n",
       "\n",
       "    .dataframe tbody tr th {\n",
       "        vertical-align: top;\n",
       "    }\n",
       "\n",
       "    .dataframe thead th {\n",
       "        text-align: right;\n",
       "    }\n",
       "</style>\n",
       "<table border=\"1\" class=\"dataframe\">\n",
       "  <thead>\n",
       "    <tr style=\"text-align: right;\">\n",
       "      <th></th>\n",
       "      <th>AGE</th>\n",
       "      <th>CEA Level</th>\n",
       "      <th>Colonoscopy Result</th>\n",
       "      <th>Polyp Size (mm)</th>\n",
       "      <th>Family History</th>\n",
       "      <th>Type of Colon Cancer</th>\n",
       "    </tr>\n",
       "  </thead>\n",
       "  <tbody>\n",
       "    <tr>\n",
       "      <th>0</th>\n",
       "      <td>78</td>\n",
       "      <td>17.361410</td>\n",
       "      <td>Normal</td>\n",
       "      <td>14.969663</td>\n",
       "      <td>No</td>\n",
       "      <td>1</td>\n",
       "    </tr>\n",
       "    <tr>\n",
       "      <th>1</th>\n",
       "      <td>68</td>\n",
       "      <td>14.008226</td>\n",
       "      <td>Normal</td>\n",
       "      <td>9.495306</td>\n",
       "      <td>Yes</td>\n",
       "      <td>1</td>\n",
       "    </tr>\n",
       "    <tr>\n",
       "      <th>2</th>\n",
       "      <td>54</td>\n",
       "      <td>12.445401</td>\n",
       "      <td>Normal</td>\n",
       "      <td>44.941506</td>\n",
       "      <td>Yes</td>\n",
       "      <td>3</td>\n",
       "    </tr>\n",
       "    <tr>\n",
       "      <th>3</th>\n",
       "      <td>82</td>\n",
       "      <td>4.139308</td>\n",
       "      <td>Abnormal</td>\n",
       "      <td>4.931454</td>\n",
       "      <td>No</td>\n",
       "      <td>1</td>\n",
       "    </tr>\n",
       "    <tr>\n",
       "      <th>4</th>\n",
       "      <td>47</td>\n",
       "      <td>8.935027</td>\n",
       "      <td>Normal</td>\n",
       "      <td>26.701058</td>\n",
       "      <td>No</td>\n",
       "      <td>2</td>\n",
       "    </tr>\n",
       "  </tbody>\n",
       "</table>\n",
       "</div>"
      ],
      "text/plain": [
       "   AGE  CEA Level Colonoscopy Result  Polyp Size (mm) Family History  \\\n",
       "0   78  17.361410             Normal        14.969663             No   \n",
       "1   68  14.008226             Normal         9.495306            Yes   \n",
       "2   54  12.445401             Normal        44.941506            Yes   \n",
       "3   82   4.139308           Abnormal         4.931454             No   \n",
       "4   47   8.935027             Normal        26.701058             No   \n",
       "\n",
       "   Type of Colon Cancer  \n",
       "0                     1  \n",
       "1                     1  \n",
       "2                     3  \n",
       "3                     1  \n",
       "4                     2  "
      ]
     },
     "execution_count": 166,
     "metadata": {},
     "output_type": "execute_result"
    }
   ],
   "source": [
    "df1.head()"
   ]
  },
  {
   "cell_type": "code",
   "execution_count": 167,
   "id": "1d34836f-50a4-4ca5-89f0-5733fbfbbb9e",
   "metadata": {},
   "outputs": [
    {
     "data": {
      "text/plain": [
       "(300, 6)"
      ]
     },
     "execution_count": 167,
     "metadata": {},
     "output_type": "execute_result"
    }
   ],
   "source": [
    "df1.shape"
   ]
  },
  {
   "cell_type": "code",
   "execution_count": 168,
   "id": "4642977f-3f02-4c3f-bfea-ca72b2f182c7",
   "metadata": {},
   "outputs": [
    {
     "data": {
      "text/plain": [
       "(100, 6)"
      ]
     },
     "execution_count": 168,
     "metadata": {},
     "output_type": "execute_result"
    }
   ],
   "source": [
    "df2.shape"
   ]
  },
  {
   "cell_type": "code",
   "execution_count": 169,
   "id": "a09fcd1e-3638-4432-95d0-82e4e11145eb",
   "metadata": {},
   "outputs": [
    {
     "data": {
      "text/html": [
       "<div>\n",
       "<style scoped>\n",
       "    .dataframe tbody tr th:only-of-type {\n",
       "        vertical-align: middle;\n",
       "    }\n",
       "\n",
       "    .dataframe tbody tr th {\n",
       "        vertical-align: top;\n",
       "    }\n",
       "\n",
       "    .dataframe thead th {\n",
       "        text-align: right;\n",
       "    }\n",
       "</style>\n",
       "<table border=\"1\" class=\"dataframe\">\n",
       "  <thead>\n",
       "    <tr style=\"text-align: right;\">\n",
       "      <th></th>\n",
       "      <th>Tumor Grade</th>\n",
       "      <th>Biopsy Result</th>\n",
       "      <th>Lymph Node Involvement</th>\n",
       "      <th>Bowel Obstruction</th>\n",
       "      <th>Smoking History</th>\n",
       "      <th>Type of Colon Cancer</th>\n",
       "    </tr>\n",
       "  </thead>\n",
       "  <tbody>\n",
       "    <tr>\n",
       "      <th>0</th>\n",
       "      <td>3</td>\n",
       "      <td>Positive</td>\n",
       "      <td>Yes</td>\n",
       "      <td>Yes</td>\n",
       "      <td>Non-Smoker</td>\n",
       "      <td>3</td>\n",
       "    </tr>\n",
       "    <tr>\n",
       "      <th>1</th>\n",
       "      <td>3</td>\n",
       "      <td>Negative</td>\n",
       "      <td>Yes</td>\n",
       "      <td>Yes</td>\n",
       "      <td>Smoker</td>\n",
       "      <td>2</td>\n",
       "    </tr>\n",
       "    <tr>\n",
       "      <th>2</th>\n",
       "      <td>2</td>\n",
       "      <td>Negative</td>\n",
       "      <td>No</td>\n",
       "      <td>No</td>\n",
       "      <td>Non-Smoker</td>\n",
       "      <td>3</td>\n",
       "    </tr>\n",
       "    <tr>\n",
       "      <th>3</th>\n",
       "      <td>1</td>\n",
       "      <td>Negative</td>\n",
       "      <td>Yes</td>\n",
       "      <td>No</td>\n",
       "      <td>Smoker</td>\n",
       "      <td>2</td>\n",
       "    </tr>\n",
       "    <tr>\n",
       "      <th>4</th>\n",
       "      <td>1</td>\n",
       "      <td>Negative</td>\n",
       "      <td>No</td>\n",
       "      <td>No</td>\n",
       "      <td>Non-Smoker</td>\n",
       "      <td>2</td>\n",
       "    </tr>\n",
       "  </tbody>\n",
       "</table>\n",
       "</div>"
      ],
      "text/plain": [
       "   Tumor Grade Biopsy Result Lymph Node Involvement Bowel Obstruction  \\\n",
       "0            3      Positive                    Yes               Yes   \n",
       "1            3      Negative                    Yes               Yes   \n",
       "2            2      Negative                     No                No   \n",
       "3            1      Negative                    Yes                No   \n",
       "4            1      Negative                     No                No   \n",
       "\n",
       "  Smoking History  Type of Colon Cancer  \n",
       "0      Non-Smoker                     3  \n",
       "1          Smoker                     2  \n",
       "2      Non-Smoker                     3  \n",
       "3          Smoker                     2  \n",
       "4      Non-Smoker                     2  "
      ]
     },
     "execution_count": 169,
     "metadata": {},
     "output_type": "execute_result"
    }
   ],
   "source": [
    "df2.head()"
   ]
  },
  {
   "cell_type": "markdown",
   "id": "4493d4c7-5310-4fa3-9c1c-8b32af5c482b",
   "metadata": {},
   "source": [
    "### Data Preprocessing"
   ]
  },
  {
   "cell_type": "code",
   "execution_count": 170,
   "id": "fe9c0f8a-483d-40ab-bb46-c136a2add636",
   "metadata": {},
   "outputs": [
    {
     "data": {
      "text/plain": [
       "AGE                     0\n",
       "CEA Level               0\n",
       "Colonoscopy Result      0\n",
       "Polyp Size (mm)         0\n",
       "Family History          0\n",
       "Type of Colon Cancer    0\n",
       "dtype: int64"
      ]
     },
     "execution_count": 170,
     "metadata": {},
     "output_type": "execute_result"
    }
   ],
   "source": [
    "df1.isnull().sum()"
   ]
  },
  {
   "cell_type": "code",
   "execution_count": 171,
   "id": "8fcf30f6-f7a4-4cf6-95aa-cae23f638cf2",
   "metadata": {},
   "outputs": [
    {
     "data": {
      "text/plain": [
       "0"
      ]
     },
     "execution_count": 171,
     "metadata": {},
     "output_type": "execute_result"
    }
   ],
   "source": [
    "df1.duplicated().sum()"
   ]
  },
  {
   "cell_type": "code",
   "execution_count": 172,
   "id": "d64abf5b-260d-4cdf-a7d3-e66cf424e867",
   "metadata": {},
   "outputs": [
    {
     "data": {
      "text/plain": [
       "Tumor Grade               0\n",
       "Biopsy Result             0\n",
       "Lymph Node Involvement    0\n",
       "Bowel Obstruction         0\n",
       "Smoking History           0\n",
       "Type of Colon Cancer      0\n",
       "dtype: int64"
      ]
     },
     "execution_count": 172,
     "metadata": {},
     "output_type": "execute_result"
    }
   ],
   "source": [
    "df2.isnull().sum()"
   ]
  },
  {
   "cell_type": "code",
   "execution_count": 173,
   "id": "c4588a06-1dd3-47a1-ad7b-c925f9391cbc",
   "metadata": {},
   "outputs": [
    {
     "data": {
      "text/html": [
       "<div>\n",
       "<style scoped>\n",
       "    .dataframe tbody tr th:only-of-type {\n",
       "        vertical-align: middle;\n",
       "    }\n",
       "\n",
       "    .dataframe tbody tr th {\n",
       "        vertical-align: top;\n",
       "    }\n",
       "\n",
       "    .dataframe thead th {\n",
       "        text-align: right;\n",
       "    }\n",
       "</style>\n",
       "<table border=\"1\" class=\"dataframe\">\n",
       "  <thead>\n",
       "    <tr style=\"text-align: right;\">\n",
       "      <th></th>\n",
       "      <th>AGE</th>\n",
       "      <th>CEA Level</th>\n",
       "      <th>Polyp Size (mm)</th>\n",
       "      <th>Type of Colon Cancer</th>\n",
       "    </tr>\n",
       "  </thead>\n",
       "  <tbody>\n",
       "    <tr>\n",
       "      <th>count</th>\n",
       "      <td>300.000000</td>\n",
       "      <td>300.000000</td>\n",
       "      <td>300.000000</td>\n",
       "      <td>300.000000</td>\n",
       "    </tr>\n",
       "    <tr>\n",
       "      <th>mean</th>\n",
       "      <td>62.206667</td>\n",
       "      <td>11.602871</td>\n",
       "      <td>24.668224</td>\n",
       "      <td>1.990000</td>\n",
       "    </tr>\n",
       "    <tr>\n",
       "      <th>std</th>\n",
       "      <td>13.241920</td>\n",
       "      <td>5.295757</td>\n",
       "      <td>13.985174</td>\n",
       "      <td>0.807511</td>\n",
       "    </tr>\n",
       "    <tr>\n",
       "      <th>min</th>\n",
       "      <td>40.000000</td>\n",
       "      <td>2.689659</td>\n",
       "      <td>1.226969</td>\n",
       "      <td>1.000000</td>\n",
       "    </tr>\n",
       "    <tr>\n",
       "      <th>25%</th>\n",
       "      <td>50.000000</td>\n",
       "      <td>7.416021</td>\n",
       "      <td>12.300328</td>\n",
       "      <td>1.000000</td>\n",
       "    </tr>\n",
       "    <tr>\n",
       "      <th>50%</th>\n",
       "      <td>63.000000</td>\n",
       "      <td>12.022287</td>\n",
       "      <td>23.889271</td>\n",
       "      <td>2.000000</td>\n",
       "    </tr>\n",
       "    <tr>\n",
       "      <th>75%</th>\n",
       "      <td>74.000000</td>\n",
       "      <td>16.366774</td>\n",
       "      <td>36.880822</td>\n",
       "      <td>3.000000</td>\n",
       "    </tr>\n",
       "    <tr>\n",
       "      <th>max</th>\n",
       "      <td>84.000000</td>\n",
       "      <td>19.876884</td>\n",
       "      <td>49.846838</td>\n",
       "      <td>3.000000</td>\n",
       "    </tr>\n",
       "  </tbody>\n",
       "</table>\n",
       "</div>"
      ],
      "text/plain": [
       "              AGE   CEA Level  Polyp Size (mm)  Type of Colon Cancer\n",
       "count  300.000000  300.000000       300.000000            300.000000\n",
       "mean    62.206667   11.602871        24.668224              1.990000\n",
       "std     13.241920    5.295757        13.985174              0.807511\n",
       "min     40.000000    2.689659         1.226969              1.000000\n",
       "25%     50.000000    7.416021        12.300328              1.000000\n",
       "50%     63.000000   12.022287        23.889271              2.000000\n",
       "75%     74.000000   16.366774        36.880822              3.000000\n",
       "max     84.000000   19.876884        49.846838              3.000000"
      ]
     },
     "execution_count": 173,
     "metadata": {},
     "output_type": "execute_result"
    }
   ],
   "source": [
    "df1.describe()"
   ]
  },
  {
   "cell_type": "code",
   "execution_count": 174,
   "id": "f2e9921b-ad49-4691-b8e6-0959c84a6bbf",
   "metadata": {},
   "outputs": [
    {
     "data": {
      "text/html": [
       "<div>\n",
       "<style scoped>\n",
       "    .dataframe tbody tr th:only-of-type {\n",
       "        vertical-align: middle;\n",
       "    }\n",
       "\n",
       "    .dataframe tbody tr th {\n",
       "        vertical-align: top;\n",
       "    }\n",
       "\n",
       "    .dataframe thead th {\n",
       "        text-align: right;\n",
       "    }\n",
       "</style>\n",
       "<table border=\"1\" class=\"dataframe\">\n",
       "  <thead>\n",
       "    <tr style=\"text-align: right;\">\n",
       "      <th></th>\n",
       "      <th>Tumor Grade</th>\n",
       "      <th>Type of Colon Cancer</th>\n",
       "    </tr>\n",
       "  </thead>\n",
       "  <tbody>\n",
       "    <tr>\n",
       "      <th>count</th>\n",
       "      <td>100.000000</td>\n",
       "      <td>100.00000</td>\n",
       "    </tr>\n",
       "    <tr>\n",
       "      <th>mean</th>\n",
       "      <td>2.020000</td>\n",
       "      <td>1.94000</td>\n",
       "    </tr>\n",
       "    <tr>\n",
       "      <th>std</th>\n",
       "      <td>0.816249</td>\n",
       "      <td>0.77616</td>\n",
       "    </tr>\n",
       "    <tr>\n",
       "      <th>min</th>\n",
       "      <td>1.000000</td>\n",
       "      <td>1.00000</td>\n",
       "    </tr>\n",
       "    <tr>\n",
       "      <th>25%</th>\n",
       "      <td>1.000000</td>\n",
       "      <td>1.00000</td>\n",
       "    </tr>\n",
       "    <tr>\n",
       "      <th>50%</th>\n",
       "      <td>2.000000</td>\n",
       "      <td>2.00000</td>\n",
       "    </tr>\n",
       "    <tr>\n",
       "      <th>75%</th>\n",
       "      <td>3.000000</td>\n",
       "      <td>3.00000</td>\n",
       "    </tr>\n",
       "    <tr>\n",
       "      <th>max</th>\n",
       "      <td>3.000000</td>\n",
       "      <td>3.00000</td>\n",
       "    </tr>\n",
       "  </tbody>\n",
       "</table>\n",
       "</div>"
      ],
      "text/plain": [
       "       Tumor Grade  Type of Colon Cancer\n",
       "count   100.000000             100.00000\n",
       "mean      2.020000               1.94000\n",
       "std       0.816249               0.77616\n",
       "min       1.000000               1.00000\n",
       "25%       1.000000               1.00000\n",
       "50%       2.000000               2.00000\n",
       "75%       3.000000               3.00000\n",
       "max       3.000000               3.00000"
      ]
     },
     "execution_count": 174,
     "metadata": {},
     "output_type": "execute_result"
    }
   ],
   "source": [
    "df2.describe()"
   ]
  },
  {
   "cell_type": "code",
   "execution_count": 175,
   "id": "2d9b7674-5c4a-4485-b588-1cf5879a1a05",
   "metadata": {},
   "outputs": [
    {
     "name": "stdout",
     "output_type": "stream",
     "text": [
      "<class 'pandas.core.frame.DataFrame'>\n",
      "RangeIndex: 300 entries, 0 to 299\n",
      "Data columns (total 6 columns):\n",
      " #   Column                Non-Null Count  Dtype  \n",
      "---  ------                --------------  -----  \n",
      " 0   AGE                   300 non-null    int64  \n",
      " 1   CEA Level             300 non-null    float64\n",
      " 2   Colonoscopy Result    300 non-null    object \n",
      " 3   Polyp Size (mm)       300 non-null    float64\n",
      " 4   Family History        300 non-null    object \n",
      " 5   Type of Colon Cancer  300 non-null    int64  \n",
      "dtypes: float64(2), int64(2), object(2)\n",
      "memory usage: 14.2+ KB\n"
     ]
    }
   ],
   "source": [
    "df1.info()"
   ]
  },
  {
   "cell_type": "code",
   "execution_count": 286,
   "id": "c9d7ad62-29e5-4f36-9dd1-49a85b10b690",
   "metadata": {},
   "outputs": [
    {
     "name": "stdout",
     "output_type": "stream",
     "text": [
      "<class 'pandas.core.frame.DataFrame'>\n",
      "RangeIndex: 100 entries, 0 to 99\n",
      "Data columns (total 6 columns):\n",
      " #   Column                  Non-Null Count  Dtype \n",
      "---  ------                  --------------  ----- \n",
      " 0   Tumor Grade             100 non-null    int64 \n",
      " 1   Biopsy Result           100 non-null    object\n",
      " 2   Lymph Node Involvement  100 non-null    object\n",
      " 3   Bowel Obstruction       100 non-null    object\n",
      " 4   Smoking History         100 non-null    object\n",
      " 5   Type of Colon Cancer    100 non-null    int64 \n",
      "dtypes: int64(2), object(4)\n",
      "memory usage: 4.8+ KB\n"
     ]
    }
   ],
   "source": [
    "df2.info()"
   ]
  },
  {
   "cell_type": "markdown",
   "id": "df840c3e-193b-4fe0-a3cc-eebe810d20cf",
   "metadata": {},
   "source": [
    "### Merge datasets"
   ]
  },
  {
   "cell_type": "code",
   "execution_count": 287,
   "id": "c61c0ea9-5831-41f3-81d9-4dfb60c3fd70",
   "metadata": {},
   "outputs": [],
   "source": [
    "merged_datset=pd.merge(df1,df2,how='inner',on='Type of Colon Cancer')"
   ]
  },
  {
   "cell_type": "code",
   "execution_count": 178,
   "id": "1eea2157-4e5f-4060-883c-d8e3eaea5fe9",
   "metadata": {},
   "outputs": [
    {
     "data": {
      "text/html": [
       "<div>\n",
       "<style scoped>\n",
       "    .dataframe tbody tr th:only-of-type {\n",
       "        vertical-align: middle;\n",
       "    }\n",
       "\n",
       "    .dataframe tbody tr th {\n",
       "        vertical-align: top;\n",
       "    }\n",
       "\n",
       "    .dataframe thead th {\n",
       "        text-align: right;\n",
       "    }\n",
       "</style>\n",
       "<table border=\"1\" class=\"dataframe\">\n",
       "  <thead>\n",
       "    <tr style=\"text-align: right;\">\n",
       "      <th></th>\n",
       "      <th>AGE</th>\n",
       "      <th>CEA Level</th>\n",
       "      <th>Colonoscopy Result</th>\n",
       "      <th>Polyp Size (mm)</th>\n",
       "      <th>Family History</th>\n",
       "      <th>Type of Colon Cancer</th>\n",
       "      <th>Tumor Grade</th>\n",
       "      <th>Biopsy Result</th>\n",
       "      <th>Lymph Node Involvement</th>\n",
       "      <th>Bowel Obstruction</th>\n",
       "      <th>Smoking History</th>\n",
       "    </tr>\n",
       "  </thead>\n",
       "  <tbody>\n",
       "    <tr>\n",
       "      <th>0</th>\n",
       "      <td>78</td>\n",
       "      <td>17.36141</td>\n",
       "      <td>Normal</td>\n",
       "      <td>14.969663</td>\n",
       "      <td>No</td>\n",
       "      <td>1</td>\n",
       "      <td>3</td>\n",
       "      <td>Negative</td>\n",
       "      <td>Yes</td>\n",
       "      <td>No</td>\n",
       "      <td>Non-Smoker</td>\n",
       "    </tr>\n",
       "    <tr>\n",
       "      <th>1</th>\n",
       "      <td>78</td>\n",
       "      <td>17.36141</td>\n",
       "      <td>Normal</td>\n",
       "      <td>14.969663</td>\n",
       "      <td>No</td>\n",
       "      <td>1</td>\n",
       "      <td>2</td>\n",
       "      <td>Positive</td>\n",
       "      <td>Yes</td>\n",
       "      <td>No</td>\n",
       "      <td>Non-Smoker</td>\n",
       "    </tr>\n",
       "    <tr>\n",
       "      <th>2</th>\n",
       "      <td>78</td>\n",
       "      <td>17.36141</td>\n",
       "      <td>Normal</td>\n",
       "      <td>14.969663</td>\n",
       "      <td>No</td>\n",
       "      <td>1</td>\n",
       "      <td>2</td>\n",
       "      <td>Positive</td>\n",
       "      <td>No</td>\n",
       "      <td>No</td>\n",
       "      <td>Smoker</td>\n",
       "    </tr>\n",
       "    <tr>\n",
       "      <th>3</th>\n",
       "      <td>78</td>\n",
       "      <td>17.36141</td>\n",
       "      <td>Normal</td>\n",
       "      <td>14.969663</td>\n",
       "      <td>No</td>\n",
       "      <td>1</td>\n",
       "      <td>3</td>\n",
       "      <td>Negative</td>\n",
       "      <td>Yes</td>\n",
       "      <td>No</td>\n",
       "      <td>Smoker</td>\n",
       "    </tr>\n",
       "    <tr>\n",
       "      <th>4</th>\n",
       "      <td>78</td>\n",
       "      <td>17.36141</td>\n",
       "      <td>Normal</td>\n",
       "      <td>14.969663</td>\n",
       "      <td>No</td>\n",
       "      <td>1</td>\n",
       "      <td>2</td>\n",
       "      <td>Negative</td>\n",
       "      <td>Yes</td>\n",
       "      <td>Yes</td>\n",
       "      <td>Non-Smoker</td>\n",
       "    </tr>\n",
       "  </tbody>\n",
       "</table>\n",
       "</div>"
      ],
      "text/plain": [
       "   AGE  CEA Level Colonoscopy Result  Polyp Size (mm) Family History  \\\n",
       "0   78   17.36141             Normal        14.969663             No   \n",
       "1   78   17.36141             Normal        14.969663             No   \n",
       "2   78   17.36141             Normal        14.969663             No   \n",
       "3   78   17.36141             Normal        14.969663             No   \n",
       "4   78   17.36141             Normal        14.969663             No   \n",
       "\n",
       "   Type of Colon Cancer  Tumor Grade Biopsy Result Lymph Node Involvement  \\\n",
       "0                     1            3      Negative                    Yes   \n",
       "1                     1            2      Positive                    Yes   \n",
       "2                     1            2      Positive                     No   \n",
       "3                     1            3      Negative                    Yes   \n",
       "4                     1            2      Negative                    Yes   \n",
       "\n",
       "  Bowel Obstruction Smoking History  \n",
       "0                No      Non-Smoker  \n",
       "1                No      Non-Smoker  \n",
       "2                No          Smoker  \n",
       "3                No          Smoker  \n",
       "4               Yes      Non-Smoker  "
      ]
     },
     "execution_count": 178,
     "metadata": {},
     "output_type": "execute_result"
    }
   ],
   "source": [
    "merged_datset.head()"
   ]
  },
  {
   "cell_type": "code",
   "execution_count": 179,
   "id": "0ff6bd89-014a-4d4e-a49a-4c67d2a19f97",
   "metadata": {},
   "outputs": [
    {
     "data": {
      "text/plain": [
       "(10059, 11)"
      ]
     },
     "execution_count": 179,
     "metadata": {},
     "output_type": "execute_result"
    }
   ],
   "source": [
    "merged_datset.shape"
   ]
  },
  {
   "cell_type": "code",
   "execution_count": 180,
   "id": "b61a512c-4f51-42d1-8a0e-973caf48ec93",
   "metadata": {},
   "outputs": [
    {
     "data": {
      "text/plain": [
       "AGE                           0\n",
       "CEA Level                     0\n",
       "Polyp Size (mm)               0\n",
       "Type of Colon Cancer          0\n",
       "Tumor Grade                   0\n",
       "Colonoscopy Result_Normal     0\n",
       "Family History_Yes            0\n",
       "Biopsy Result_Positive        0\n",
       "Lymph Node Involvement_Yes    0\n",
       "Bowel Obstruction_Yes         0\n",
       "Smoking History_Smoker        0\n",
       "dtype: int64"
      ]
     },
     "execution_count": 180,
     "metadata": {},
     "output_type": "execute_result"
    }
   ],
   "source": [
    "merged_dataset.isnull().sum()"
   ]
  },
  {
   "cell_type": "code",
   "execution_count": 181,
   "id": "1dda713a-4454-4c7b-9d89-86ddcc910b30",
   "metadata": {},
   "outputs": [
    {
     "data": {
      "text/plain": [
       "0"
      ]
     },
     "execution_count": 181,
     "metadata": {},
     "output_type": "execute_result"
    }
   ],
   "source": [
    "merged_dataset.duplicated().sum()"
   ]
  },
  {
   "cell_type": "code",
   "execution_count": 182,
   "id": "a4a049dd-bfa9-4b77-81c9-2f8e4ed2d1f1",
   "metadata": {},
   "outputs": [],
   "source": [
    "merged_dataset=merged_dataset.drop_duplicates()\n"
   ]
  },
  {
   "cell_type": "code",
   "execution_count": 183,
   "id": "15fa586e-9598-43c8-8196-883bd0a6e560",
   "metadata": {},
   "outputs": [
    {
     "data": {
      "text/plain": [
       "(7140, 11)"
      ]
     },
     "execution_count": 183,
     "metadata": {},
     "output_type": "execute_result"
    }
   ],
   "source": [
    "merged_dataset.shape"
   ]
  },
  {
   "cell_type": "code",
   "execution_count": 184,
   "id": "899e3add-1347-45b0-a4a9-015178a4e7f4",
   "metadata": {},
   "outputs": [
    {
     "data": {
      "text/plain": [
       "0"
      ]
     },
     "execution_count": 184,
     "metadata": {},
     "output_type": "execute_result"
    }
   ],
   "source": [
    "merged_dataset.duplicated().sum()"
   ]
  },
  {
   "cell_type": "code",
   "execution_count": 185,
   "id": "97ba1663-8f28-4080-8cad-0a40d826f443",
   "metadata": {},
   "outputs": [
    {
     "data": {
      "text/html": [
       "<div>\n",
       "<style scoped>\n",
       "    .dataframe tbody tr th:only-of-type {\n",
       "        vertical-align: middle;\n",
       "    }\n",
       "\n",
       "    .dataframe tbody tr th {\n",
       "        vertical-align: top;\n",
       "    }\n",
       "\n",
       "    .dataframe thead th {\n",
       "        text-align: right;\n",
       "    }\n",
       "</style>\n",
       "<table border=\"1\" class=\"dataframe\">\n",
       "  <thead>\n",
       "    <tr style=\"text-align: right;\">\n",
       "      <th></th>\n",
       "      <th>AGE</th>\n",
       "      <th>CEA Level</th>\n",
       "      <th>Polyp Size (mm)</th>\n",
       "      <th>Type of Colon Cancer</th>\n",
       "      <th>Tumor Grade</th>\n",
       "      <th>Colonoscopy Result_Normal</th>\n",
       "      <th>Family History_Yes</th>\n",
       "      <th>Biopsy Result_Positive</th>\n",
       "      <th>Lymph Node Involvement_Yes</th>\n",
       "      <th>Bowel Obstruction_Yes</th>\n",
       "      <th>Smoking History_Smoker</th>\n",
       "    </tr>\n",
       "  </thead>\n",
       "  <tbody>\n",
       "    <tr>\n",
       "      <th>count</th>\n",
       "      <td>7140.000000</td>\n",
       "      <td>7140.000000</td>\n",
       "      <td>7140.000000</td>\n",
       "      <td>7140.000000</td>\n",
       "      <td>7140.000000</td>\n",
       "      <td>7140.000000</td>\n",
       "      <td>7140.000000</td>\n",
       "      <td>7140.000000</td>\n",
       "      <td>7140.000000</td>\n",
       "      <td>7140.000000</td>\n",
       "      <td>7140.000000</td>\n",
       "    </tr>\n",
       "    <tr>\n",
       "      <th>mean</th>\n",
       "      <td>62.334314</td>\n",
       "      <td>11.540489</td>\n",
       "      <td>24.637607</td>\n",
       "      <td>1.922689</td>\n",
       "      <td>1.988655</td>\n",
       "      <td>0.537815</td>\n",
       "      <td>0.553922</td>\n",
       "      <td>0.506723</td>\n",
       "      <td>0.548319</td>\n",
       "      <td>0.492857</td>\n",
       "      <td>0.478571</td>\n",
       "    </tr>\n",
       "    <tr>\n",
       "      <th>std</th>\n",
       "      <td>13.164432</td>\n",
       "      <td>5.255133</td>\n",
       "      <td>13.959413</td>\n",
       "      <td>0.763112</td>\n",
       "      <td>0.795181</td>\n",
       "      <td>0.498603</td>\n",
       "      <td>0.497119</td>\n",
       "      <td>0.499990</td>\n",
       "      <td>0.497695</td>\n",
       "      <td>0.499984</td>\n",
       "      <td>0.499576</td>\n",
       "    </tr>\n",
       "    <tr>\n",
       "      <th>min</th>\n",
       "      <td>40.000000</td>\n",
       "      <td>2.689659</td>\n",
       "      <td>1.226969</td>\n",
       "      <td>1.000000</td>\n",
       "      <td>1.000000</td>\n",
       "      <td>0.000000</td>\n",
       "      <td>0.000000</td>\n",
       "      <td>0.000000</td>\n",
       "      <td>0.000000</td>\n",
       "      <td>0.000000</td>\n",
       "      <td>0.000000</td>\n",
       "    </tr>\n",
       "    <tr>\n",
       "      <th>25%</th>\n",
       "      <td>51.000000</td>\n",
       "      <td>7.413516</td>\n",
       "      <td>12.233318</td>\n",
       "      <td>1.000000</td>\n",
       "      <td>1.000000</td>\n",
       "      <td>0.000000</td>\n",
       "      <td>0.000000</td>\n",
       "      <td>0.000000</td>\n",
       "      <td>0.000000</td>\n",
       "      <td>0.000000</td>\n",
       "      <td>0.000000</td>\n",
       "    </tr>\n",
       "    <tr>\n",
       "      <th>50%</th>\n",
       "      <td>63.000000</td>\n",
       "      <td>11.881686</td>\n",
       "      <td>24.107233</td>\n",
       "      <td>2.000000</td>\n",
       "      <td>2.000000</td>\n",
       "      <td>1.000000</td>\n",
       "      <td>1.000000</td>\n",
       "      <td>1.000000</td>\n",
       "      <td>1.000000</td>\n",
       "      <td>0.000000</td>\n",
       "      <td>0.000000</td>\n",
       "    </tr>\n",
       "    <tr>\n",
       "      <th>75%</th>\n",
       "      <td>74.000000</td>\n",
       "      <td>16.318317</td>\n",
       "      <td>36.812506</td>\n",
       "      <td>3.000000</td>\n",
       "      <td>3.000000</td>\n",
       "      <td>1.000000</td>\n",
       "      <td>1.000000</td>\n",
       "      <td>1.000000</td>\n",
       "      <td>1.000000</td>\n",
       "      <td>1.000000</td>\n",
       "      <td>1.000000</td>\n",
       "    </tr>\n",
       "    <tr>\n",
       "      <th>max</th>\n",
       "      <td>84.000000</td>\n",
       "      <td>19.876884</td>\n",
       "      <td>49.846838</td>\n",
       "      <td>3.000000</td>\n",
       "      <td>3.000000</td>\n",
       "      <td>1.000000</td>\n",
       "      <td>1.000000</td>\n",
       "      <td>1.000000</td>\n",
       "      <td>1.000000</td>\n",
       "      <td>1.000000</td>\n",
       "      <td>1.000000</td>\n",
       "    </tr>\n",
       "  </tbody>\n",
       "</table>\n",
       "</div>"
      ],
      "text/plain": [
       "               AGE    CEA Level  Polyp Size (mm)  Type of Colon Cancer  \\\n",
       "count  7140.000000  7140.000000      7140.000000           7140.000000   \n",
       "mean     62.334314    11.540489        24.637607              1.922689   \n",
       "std      13.164432     5.255133        13.959413              0.763112   \n",
       "min      40.000000     2.689659         1.226969              1.000000   \n",
       "25%      51.000000     7.413516        12.233318              1.000000   \n",
       "50%      63.000000    11.881686        24.107233              2.000000   \n",
       "75%      74.000000    16.318317        36.812506              3.000000   \n",
       "max      84.000000    19.876884        49.846838              3.000000   \n",
       "\n",
       "       Tumor Grade  Colonoscopy Result_Normal  Family History_Yes  \\\n",
       "count  7140.000000                7140.000000         7140.000000   \n",
       "mean      1.988655                   0.537815            0.553922   \n",
       "std       0.795181                   0.498603            0.497119   \n",
       "min       1.000000                   0.000000            0.000000   \n",
       "25%       1.000000                   0.000000            0.000000   \n",
       "50%       2.000000                   1.000000            1.000000   \n",
       "75%       3.000000                   1.000000            1.000000   \n",
       "max       3.000000                   1.000000            1.000000   \n",
       "\n",
       "       Biopsy Result_Positive  Lymph Node Involvement_Yes  \\\n",
       "count             7140.000000                 7140.000000   \n",
       "mean                 0.506723                    0.548319   \n",
       "std                  0.499990                    0.497695   \n",
       "min                  0.000000                    0.000000   \n",
       "25%                  0.000000                    0.000000   \n",
       "50%                  1.000000                    1.000000   \n",
       "75%                  1.000000                    1.000000   \n",
       "max                  1.000000                    1.000000   \n",
       "\n",
       "       Bowel Obstruction_Yes  Smoking History_Smoker  \n",
       "count            7140.000000             7140.000000  \n",
       "mean                0.492857                0.478571  \n",
       "std                 0.499984                0.499576  \n",
       "min                 0.000000                0.000000  \n",
       "25%                 0.000000                0.000000  \n",
       "50%                 0.000000                0.000000  \n",
       "75%                 1.000000                1.000000  \n",
       "max                 1.000000                1.000000  "
      ]
     },
     "execution_count": 185,
     "metadata": {},
     "output_type": "execute_result"
    }
   ],
   "source": [
    "merged_dataset.describe()"
   ]
  },
  {
   "cell_type": "code",
   "execution_count": 186,
   "id": "8390f5dc-dcf2-496c-a495-6f8685eff7d3",
   "metadata": {},
   "outputs": [
    {
     "name": "stdout",
     "output_type": "stream",
     "text": [
      "<class 'pandas.core.frame.DataFrame'>\n",
      "Index: 7140 entries, 0 to 10050\n",
      "Data columns (total 11 columns):\n",
      " #   Column                      Non-Null Count  Dtype  \n",
      "---  ------                      --------------  -----  \n",
      " 0   AGE                         7140 non-null   int64  \n",
      " 1   CEA Level                   7140 non-null   float64\n",
      " 2   Polyp Size (mm)             7140 non-null   float64\n",
      " 3   Type of Colon Cancer        7140 non-null   int64  \n",
      " 4   Tumor Grade                 7140 non-null   int64  \n",
      " 5   Colonoscopy Result_Normal   7140 non-null   int32  \n",
      " 6   Family History_Yes          7140 non-null   int32  \n",
      " 7   Biopsy Result_Positive      7140 non-null   int32  \n",
      " 8   Lymph Node Involvement_Yes  7140 non-null   int32  \n",
      " 9   Bowel Obstruction_Yes       7140 non-null   int32  \n",
      " 10  Smoking History_Smoker      7140 non-null   int32  \n",
      "dtypes: float64(2), int32(6), int64(3)\n",
      "memory usage: 502.0 KB\n"
     ]
    }
   ],
   "source": [
    "merged_dataset.info()"
   ]
  },
  {
   "cell_type": "code",
   "execution_count": 187,
   "id": "f0b5887a-773a-4893-b58a-dbd337a0c629",
   "metadata": {},
   "outputs": [],
   "source": [
    "merged_dataset=pd.get_dummies(data=merged_dataset,drop_first=True,dtype=int)"
   ]
  },
  {
   "cell_type": "code",
   "execution_count": 188,
   "id": "1040ee5b-004d-402b-aeef-bcf8e1b6a347",
   "metadata": {},
   "outputs": [
    {
     "data": {
      "text/html": [
       "<div>\n",
       "<style scoped>\n",
       "    .dataframe tbody tr th:only-of-type {\n",
       "        vertical-align: middle;\n",
       "    }\n",
       "\n",
       "    .dataframe tbody tr th {\n",
       "        vertical-align: top;\n",
       "    }\n",
       "\n",
       "    .dataframe thead th {\n",
       "        text-align: right;\n",
       "    }\n",
       "</style>\n",
       "<table border=\"1\" class=\"dataframe\">\n",
       "  <thead>\n",
       "    <tr style=\"text-align: right;\">\n",
       "      <th></th>\n",
       "      <th>AGE</th>\n",
       "      <th>CEA Level</th>\n",
       "      <th>Polyp Size (mm)</th>\n",
       "      <th>Type of Colon Cancer</th>\n",
       "      <th>Tumor Grade</th>\n",
       "      <th>Colonoscopy Result_Normal</th>\n",
       "      <th>Family History_Yes</th>\n",
       "      <th>Biopsy Result_Positive</th>\n",
       "      <th>Lymph Node Involvement_Yes</th>\n",
       "      <th>Bowel Obstruction_Yes</th>\n",
       "      <th>Smoking History_Smoker</th>\n",
       "    </tr>\n",
       "  </thead>\n",
       "  <tbody>\n",
       "    <tr>\n",
       "      <th>0</th>\n",
       "      <td>78</td>\n",
       "      <td>17.36141</td>\n",
       "      <td>14.969663</td>\n",
       "      <td>1</td>\n",
       "      <td>3</td>\n",
       "      <td>1</td>\n",
       "      <td>0</td>\n",
       "      <td>0</td>\n",
       "      <td>1</td>\n",
       "      <td>0</td>\n",
       "      <td>0</td>\n",
       "    </tr>\n",
       "    <tr>\n",
       "      <th>1</th>\n",
       "      <td>78</td>\n",
       "      <td>17.36141</td>\n",
       "      <td>14.969663</td>\n",
       "      <td>1</td>\n",
       "      <td>2</td>\n",
       "      <td>1</td>\n",
       "      <td>0</td>\n",
       "      <td>1</td>\n",
       "      <td>1</td>\n",
       "      <td>0</td>\n",
       "      <td>0</td>\n",
       "    </tr>\n",
       "    <tr>\n",
       "      <th>2</th>\n",
       "      <td>78</td>\n",
       "      <td>17.36141</td>\n",
       "      <td>14.969663</td>\n",
       "      <td>1</td>\n",
       "      <td>2</td>\n",
       "      <td>1</td>\n",
       "      <td>0</td>\n",
       "      <td>1</td>\n",
       "      <td>0</td>\n",
       "      <td>0</td>\n",
       "      <td>1</td>\n",
       "    </tr>\n",
       "    <tr>\n",
       "      <th>3</th>\n",
       "      <td>78</td>\n",
       "      <td>17.36141</td>\n",
       "      <td>14.969663</td>\n",
       "      <td>1</td>\n",
       "      <td>3</td>\n",
       "      <td>1</td>\n",
       "      <td>0</td>\n",
       "      <td>0</td>\n",
       "      <td>1</td>\n",
       "      <td>0</td>\n",
       "      <td>1</td>\n",
       "    </tr>\n",
       "    <tr>\n",
       "      <th>4</th>\n",
       "      <td>78</td>\n",
       "      <td>17.36141</td>\n",
       "      <td>14.969663</td>\n",
       "      <td>1</td>\n",
       "      <td>2</td>\n",
       "      <td>1</td>\n",
       "      <td>0</td>\n",
       "      <td>0</td>\n",
       "      <td>1</td>\n",
       "      <td>1</td>\n",
       "      <td>0</td>\n",
       "    </tr>\n",
       "  </tbody>\n",
       "</table>\n",
       "</div>"
      ],
      "text/plain": [
       "   AGE  CEA Level  Polyp Size (mm)  Type of Colon Cancer  Tumor Grade  \\\n",
       "0   78   17.36141        14.969663                     1            3   \n",
       "1   78   17.36141        14.969663                     1            2   \n",
       "2   78   17.36141        14.969663                     1            2   \n",
       "3   78   17.36141        14.969663                     1            3   \n",
       "4   78   17.36141        14.969663                     1            2   \n",
       "\n",
       "   Colonoscopy Result_Normal  Family History_Yes  Biopsy Result_Positive  \\\n",
       "0                          1                   0                       0   \n",
       "1                          1                   0                       1   \n",
       "2                          1                   0                       1   \n",
       "3                          1                   0                       0   \n",
       "4                          1                   0                       0   \n",
       "\n",
       "   Lymph Node Involvement_Yes  Bowel Obstruction_Yes  Smoking History_Smoker  \n",
       "0                           1                      0                       0  \n",
       "1                           1                      0                       0  \n",
       "2                           0                      0                       1  \n",
       "3                           1                      0                       1  \n",
       "4                           1                      1                       0  "
      ]
     },
     "execution_count": 188,
     "metadata": {},
     "output_type": "execute_result"
    }
   ],
   "source": [
    "merged_dataset.head()"
   ]
  },
  {
   "cell_type": "code",
   "execution_count": 189,
   "id": "9f4df37a-2422-4a89-a9b1-46b5ac42cce6",
   "metadata": {},
   "outputs": [
    {
     "data": {
      "text/plain": [
       "(7140, 11)"
      ]
     },
     "execution_count": 189,
     "metadata": {},
     "output_type": "execute_result"
    }
   ],
   "source": [
    "merged_dataset.shape"
   ]
  },
  {
   "cell_type": "code",
   "execution_count": 190,
   "id": "36f2440a-7d04-4458-a645-777f1a0143a5",
   "metadata": {},
   "outputs": [
    {
     "name": "stdout",
     "output_type": "stream",
     "text": [
      "<class 'pandas.core.frame.DataFrame'>\n",
      "Index: 7140 entries, 0 to 10050\n",
      "Data columns (total 11 columns):\n",
      " #   Column                      Non-Null Count  Dtype  \n",
      "---  ------                      --------------  -----  \n",
      " 0   AGE                         7140 non-null   int64  \n",
      " 1   CEA Level                   7140 non-null   float64\n",
      " 2   Polyp Size (mm)             7140 non-null   float64\n",
      " 3   Type of Colon Cancer        7140 non-null   int64  \n",
      " 4   Tumor Grade                 7140 non-null   int64  \n",
      " 5   Colonoscopy Result_Normal   7140 non-null   int32  \n",
      " 6   Family History_Yes          7140 non-null   int32  \n",
      " 7   Biopsy Result_Positive      7140 non-null   int32  \n",
      " 8   Lymph Node Involvement_Yes  7140 non-null   int32  \n",
      " 9   Bowel Obstruction_Yes       7140 non-null   int32  \n",
      " 10  Smoking History_Smoker      7140 non-null   int32  \n",
      "dtypes: float64(2), int32(6), int64(3)\n",
      "memory usage: 502.0 KB\n"
     ]
    }
   ],
   "source": [
    "merged_dataset.info()"
   ]
  },
  {
   "cell_type": "code",
   "execution_count": 191,
   "id": "6b836d34-f018-4381-bdf7-458abbafbeb1",
   "metadata": {},
   "outputs": [
    {
     "data": {
      "text/html": [
       "<div>\n",
       "<style scoped>\n",
       "    .dataframe tbody tr th:only-of-type {\n",
       "        vertical-align: middle;\n",
       "    }\n",
       "\n",
       "    .dataframe tbody tr th {\n",
       "        vertical-align: top;\n",
       "    }\n",
       "\n",
       "    .dataframe thead th {\n",
       "        text-align: right;\n",
       "    }\n",
       "</style>\n",
       "<table border=\"1\" class=\"dataframe\">\n",
       "  <thead>\n",
       "    <tr style=\"text-align: right;\">\n",
       "      <th></th>\n",
       "      <th>AGE</th>\n",
       "      <th>CEA Level</th>\n",
       "      <th>Polyp Size (mm)</th>\n",
       "      <th>Type of Colon Cancer</th>\n",
       "      <th>Tumor Grade</th>\n",
       "      <th>Colonoscopy Result_Normal</th>\n",
       "      <th>Family History_Yes</th>\n",
       "      <th>Biopsy Result_Positive</th>\n",
       "      <th>Lymph Node Involvement_Yes</th>\n",
       "      <th>Bowel Obstruction_Yes</th>\n",
       "      <th>Smoking History_Smoker</th>\n",
       "    </tr>\n",
       "  </thead>\n",
       "  <tbody>\n",
       "    <tr>\n",
       "      <th>count</th>\n",
       "      <td>7140.000000</td>\n",
       "      <td>7140.000000</td>\n",
       "      <td>7140.000000</td>\n",
       "      <td>7140.000000</td>\n",
       "      <td>7140.000000</td>\n",
       "      <td>7140.000000</td>\n",
       "      <td>7140.000000</td>\n",
       "      <td>7140.000000</td>\n",
       "      <td>7140.000000</td>\n",
       "      <td>7140.000000</td>\n",
       "      <td>7140.000000</td>\n",
       "    </tr>\n",
       "    <tr>\n",
       "      <th>mean</th>\n",
       "      <td>62.334314</td>\n",
       "      <td>11.540489</td>\n",
       "      <td>24.637607</td>\n",
       "      <td>1.922689</td>\n",
       "      <td>1.988655</td>\n",
       "      <td>0.537815</td>\n",
       "      <td>0.553922</td>\n",
       "      <td>0.506723</td>\n",
       "      <td>0.548319</td>\n",
       "      <td>0.492857</td>\n",
       "      <td>0.478571</td>\n",
       "    </tr>\n",
       "    <tr>\n",
       "      <th>std</th>\n",
       "      <td>13.164432</td>\n",
       "      <td>5.255133</td>\n",
       "      <td>13.959413</td>\n",
       "      <td>0.763112</td>\n",
       "      <td>0.795181</td>\n",
       "      <td>0.498603</td>\n",
       "      <td>0.497119</td>\n",
       "      <td>0.499990</td>\n",
       "      <td>0.497695</td>\n",
       "      <td>0.499984</td>\n",
       "      <td>0.499576</td>\n",
       "    </tr>\n",
       "    <tr>\n",
       "      <th>min</th>\n",
       "      <td>40.000000</td>\n",
       "      <td>2.689659</td>\n",
       "      <td>1.226969</td>\n",
       "      <td>1.000000</td>\n",
       "      <td>1.000000</td>\n",
       "      <td>0.000000</td>\n",
       "      <td>0.000000</td>\n",
       "      <td>0.000000</td>\n",
       "      <td>0.000000</td>\n",
       "      <td>0.000000</td>\n",
       "      <td>0.000000</td>\n",
       "    </tr>\n",
       "    <tr>\n",
       "      <th>25%</th>\n",
       "      <td>51.000000</td>\n",
       "      <td>7.413516</td>\n",
       "      <td>12.233318</td>\n",
       "      <td>1.000000</td>\n",
       "      <td>1.000000</td>\n",
       "      <td>0.000000</td>\n",
       "      <td>0.000000</td>\n",
       "      <td>0.000000</td>\n",
       "      <td>0.000000</td>\n",
       "      <td>0.000000</td>\n",
       "      <td>0.000000</td>\n",
       "    </tr>\n",
       "    <tr>\n",
       "      <th>50%</th>\n",
       "      <td>63.000000</td>\n",
       "      <td>11.881686</td>\n",
       "      <td>24.107233</td>\n",
       "      <td>2.000000</td>\n",
       "      <td>2.000000</td>\n",
       "      <td>1.000000</td>\n",
       "      <td>1.000000</td>\n",
       "      <td>1.000000</td>\n",
       "      <td>1.000000</td>\n",
       "      <td>0.000000</td>\n",
       "      <td>0.000000</td>\n",
       "    </tr>\n",
       "    <tr>\n",
       "      <th>75%</th>\n",
       "      <td>74.000000</td>\n",
       "      <td>16.318317</td>\n",
       "      <td>36.812506</td>\n",
       "      <td>3.000000</td>\n",
       "      <td>3.000000</td>\n",
       "      <td>1.000000</td>\n",
       "      <td>1.000000</td>\n",
       "      <td>1.000000</td>\n",
       "      <td>1.000000</td>\n",
       "      <td>1.000000</td>\n",
       "      <td>1.000000</td>\n",
       "    </tr>\n",
       "    <tr>\n",
       "      <th>max</th>\n",
       "      <td>84.000000</td>\n",
       "      <td>19.876884</td>\n",
       "      <td>49.846838</td>\n",
       "      <td>3.000000</td>\n",
       "      <td>3.000000</td>\n",
       "      <td>1.000000</td>\n",
       "      <td>1.000000</td>\n",
       "      <td>1.000000</td>\n",
       "      <td>1.000000</td>\n",
       "      <td>1.000000</td>\n",
       "      <td>1.000000</td>\n",
       "    </tr>\n",
       "  </tbody>\n",
       "</table>\n",
       "</div>"
      ],
      "text/plain": [
       "               AGE    CEA Level  Polyp Size (mm)  Type of Colon Cancer  \\\n",
       "count  7140.000000  7140.000000      7140.000000           7140.000000   \n",
       "mean     62.334314    11.540489        24.637607              1.922689   \n",
       "std      13.164432     5.255133        13.959413              0.763112   \n",
       "min      40.000000     2.689659         1.226969              1.000000   \n",
       "25%      51.000000     7.413516        12.233318              1.000000   \n",
       "50%      63.000000    11.881686        24.107233              2.000000   \n",
       "75%      74.000000    16.318317        36.812506              3.000000   \n",
       "max      84.000000    19.876884        49.846838              3.000000   \n",
       "\n",
       "       Tumor Grade  Colonoscopy Result_Normal  Family History_Yes  \\\n",
       "count  7140.000000                7140.000000         7140.000000   \n",
       "mean      1.988655                   0.537815            0.553922   \n",
       "std       0.795181                   0.498603            0.497119   \n",
       "min       1.000000                   0.000000            0.000000   \n",
       "25%       1.000000                   0.000000            0.000000   \n",
       "50%       2.000000                   1.000000            1.000000   \n",
       "75%       3.000000                   1.000000            1.000000   \n",
       "max       3.000000                   1.000000            1.000000   \n",
       "\n",
       "       Biopsy Result_Positive  Lymph Node Involvement_Yes  \\\n",
       "count             7140.000000                 7140.000000   \n",
       "mean                 0.506723                    0.548319   \n",
       "std                  0.499990                    0.497695   \n",
       "min                  0.000000                    0.000000   \n",
       "25%                  0.000000                    0.000000   \n",
       "50%                  1.000000                    1.000000   \n",
       "75%                  1.000000                    1.000000   \n",
       "max                  1.000000                    1.000000   \n",
       "\n",
       "       Bowel Obstruction_Yes  Smoking History_Smoker  \n",
       "count            7140.000000             7140.000000  \n",
       "mean                0.492857                0.478571  \n",
       "std                 0.499984                0.499576  \n",
       "min                 0.000000                0.000000  \n",
       "25%                 0.000000                0.000000  \n",
       "50%                 0.000000                0.000000  \n",
       "75%                 1.000000                1.000000  \n",
       "max                 1.000000                1.000000  "
      ]
     },
     "execution_count": 191,
     "metadata": {},
     "output_type": "execute_result"
    }
   ],
   "source": [
    "merged_dataset.describe()"
   ]
  },
  {
   "cell_type": "code",
   "execution_count": 192,
   "id": "e6e6d3fc-5d93-45d8-8ea2-d2baddde568e",
   "metadata": {},
   "outputs": [
    {
     "data": {
      "text/html": [
       "<div>\n",
       "<style scoped>\n",
       "    .dataframe tbody tr th:only-of-type {\n",
       "        vertical-align: middle;\n",
       "    }\n",
       "\n",
       "    .dataframe tbody tr th {\n",
       "        vertical-align: top;\n",
       "    }\n",
       "\n",
       "    .dataframe thead th {\n",
       "        text-align: right;\n",
       "    }\n",
       "</style>\n",
       "<table border=\"1\" class=\"dataframe\">\n",
       "  <thead>\n",
       "    <tr style=\"text-align: right;\">\n",
       "      <th>Type of Colon Cancer</th>\n",
       "      <th>1</th>\n",
       "      <th>2</th>\n",
       "      <th>3</th>\n",
       "    </tr>\n",
       "  </thead>\n",
       "  <tbody>\n",
       "    <tr>\n",
       "      <th>AGE</th>\n",
       "      <td>62.878788</td>\n",
       "      <td>62.819048</td>\n",
       "      <td>60.843750</td>\n",
       "    </tr>\n",
       "    <tr>\n",
       "      <th>CEA Level</th>\n",
       "      <td>11.223886</td>\n",
       "      <td>11.330055</td>\n",
       "      <td>12.292092</td>\n",
       "    </tr>\n",
       "    <tr>\n",
       "      <th>Polyp Size (mm)</th>\n",
       "      <td>23.508348</td>\n",
       "      <td>25.044449</td>\n",
       "      <td>25.452849</td>\n",
       "    </tr>\n",
       "    <tr>\n",
       "      <th>Tumor Grade</th>\n",
       "      <td>1.833333</td>\n",
       "      <td>2.107143</td>\n",
       "      <td>2.000000</td>\n",
       "    </tr>\n",
       "    <tr>\n",
       "      <th>Colonoscopy Result_Normal</th>\n",
       "      <td>0.616162</td>\n",
       "      <td>0.523810</td>\n",
       "      <td>0.458333</td>\n",
       "    </tr>\n",
       "    <tr>\n",
       "      <th>Family History_Yes</th>\n",
       "      <td>0.565657</td>\n",
       "      <td>0.571429</td>\n",
       "      <td>0.510417</td>\n",
       "    </tr>\n",
       "    <tr>\n",
       "      <th>Biopsy Result_Positive</th>\n",
       "      <td>0.500000</td>\n",
       "      <td>0.500000</td>\n",
       "      <td>0.526316</td>\n",
       "    </tr>\n",
       "    <tr>\n",
       "      <th>Lymph Node Involvement_Yes</th>\n",
       "      <td>0.500000</td>\n",
       "      <td>0.535714</td>\n",
       "      <td>0.631579</td>\n",
       "    </tr>\n",
       "    <tr>\n",
       "      <th>Bowel Obstruction_Yes</th>\n",
       "      <td>0.458333</td>\n",
       "      <td>0.500000</td>\n",
       "      <td>0.526316</td>\n",
       "    </tr>\n",
       "    <tr>\n",
       "      <th>Smoking History_Smoker</th>\n",
       "      <td>0.500000</td>\n",
       "      <td>0.464286</td>\n",
       "      <td>0.473684</td>\n",
       "    </tr>\n",
       "  </tbody>\n",
       "</table>\n",
       "</div>"
      ],
      "text/plain": [
       "Type of Colon Cancer                1          2          3\n",
       "AGE                         62.878788  62.819048  60.843750\n",
       "CEA Level                   11.223886  11.330055  12.292092\n",
       "Polyp Size (mm)             23.508348  25.044449  25.452849\n",
       "Tumor Grade                  1.833333   2.107143   2.000000\n",
       "Colonoscopy Result_Normal    0.616162   0.523810   0.458333\n",
       "Family History_Yes           0.565657   0.571429   0.510417\n",
       "Biopsy Result_Positive       0.500000   0.500000   0.526316\n",
       "Lymph Node Involvement_Yes   0.500000   0.535714   0.631579\n",
       "Bowel Obstruction_Yes        0.458333   0.500000   0.526316\n",
       "Smoking History_Smoker       0.500000   0.464286   0.473684"
      ]
     },
     "execution_count": 192,
     "metadata": {},
     "output_type": "execute_result"
    }
   ],
   "source": [
    "merged_dataset.groupby('Type of Colon Cancer').mean().T"
   ]
  },
  {
   "cell_type": "code",
   "execution_count": 193,
   "id": "98bb59fa-9451-4f5d-8359-8a000ba3d91d",
   "metadata": {},
   "outputs": [
    {
     "data": {
      "text/plain": [
       "Index(['AGE', 'CEA Level', 'Polyp Size (mm)', 'Type of Colon Cancer',\n",
       "       'Tumor Grade', 'Colonoscopy Result_Normal', 'Family History_Yes',\n",
       "       'Biopsy Result_Positive', 'Lymph Node Involvement_Yes',\n",
       "       'Bowel Obstruction_Yes', 'Smoking History_Smoker'],\n",
       "      dtype='object')"
      ]
     },
     "execution_count": 193,
     "metadata": {},
     "output_type": "execute_result"
    }
   ],
   "source": [
    "merged_dataset.columns"
   ]
  },
  {
   "cell_type": "code",
   "execution_count": 194,
   "id": "730acf1d-8d1d-425a-8658-846bd648219e",
   "metadata": {},
   "outputs": [
    {
     "data": {
      "image/png": "[encoded data removed]",
      "text/plain": [
       "<Figure size 640x480 with 1 Axes>"
      ]
     },
     "metadata": {},
     "output_type": "display_data"
    },
    {
     "data": {
      "image/png": "[encoded data removed]",
      "text/plain": [
       "<Figure size 640x480 with 1 Axes>"
      ]
     },
     "metadata": {},
     "output_type": "display_data"
    },
    {
     "data": {
      "image/png": "[encoded data removed]",
      "text/plain": [
       "<Figure size 640x480 with 1 Axes>"
      ]
     },
     "metadata": {},
     "output_type": "display_data"
    },
    {
     "data": {
      "image/png": "[encoded data removed]",
      "text/plain": [
       "<Figure size 640x480 with 1 Axes>"
      ]
     },
     "metadata": {},
     "output_type": "display_data"
    },
    {
     "data": {
      "image/png": "[encoded data removed]",
      "text/plain": [
       "<Figure size 640x480 with 1 Axes>"
      ]
     },
     "metadata": {},
     "output_type": "display_data"
    },
    {
     "data": {
      "image/png": "[encoded data removed]",
      "text/plain": [
       "<Figure size 640x480 with 1 Axes>"
      ]
     },
     "metadata": {},
     "output_type": "display_data"
    },
    {
     "data": {
      "image/png": "[encoded data removed]",
      "text/plain": [
       "<Figure size 640x480 with 1 Axes>"
      ]
     },
     "metadata": {},
     "output_type": "display_data"
    }
   ],
   "source": [
    "cols=['Tumor Grade', 'Colonoscopy Result_Normal', 'Family History_Yes',\n",
    "       'Biopsy Result_Positive', 'Lymph Node Involvement_Yes',\n",
    "       'Bowel Obstruction_Yes', 'Smoking History_Smoker']\n",
    "for col in cols:\n",
    "    pd.crosstab(merged_dataset['Type of Colon Cancer'],merged_dataset[col]).plot(kind='bar')"
   ]
  },
  {
   "cell_type": "code",
   "execution_count": 195,
   "id": "a9e880ae-1c7d-421a-ae71-d70c7b2bba4f",
   "metadata": {},
   "outputs": [
    {
     "data": {
      "text/plain": [
       "<Axes: xlabel='Type of Colon Cancer'>"
      ]
     },
     "execution_count": 195,
     "metadata": {},
     "output_type": "execute_result"
    },
    {
     "data": {
      "image/png": "[encoded data removed]",
      "text/plain": [
       "<Figure size 640x480 with 1 Axes>"
      ]
     },
     "metadata": {},
     "output_type": "display_data"
    }
   ],
   "source": [
    "merged_dataset['Type of Colon Cancer'].value_counts().plot(kind='bar')"
   ]
  },
  {
   "cell_type": "code",
   "execution_count": 196,
   "id": "8ad6faee-1f95-41bb-bddb-557ba9acd3ee",
   "metadata": {},
   "outputs": [
    {
     "data": {
      "image/png": "[encoded data removed]",
      "text/plain": [
       "<Figure size 1000x1000 with 12 Axes>"
      ]
     },
     "metadata": {},
     "output_type": "display_data"
    }
   ],
   "source": [
    "data_hist_plot=merged_dataset.hist(figsize=(10,10),color='#5F9EA0')"
   ]
  },
  {
   "cell_type": "code",
   "execution_count": 197,
   "id": "e8b6402e-707a-44f3-80f4-0033ec7f4695",
   "metadata": {},
   "outputs": [
    {
     "data": {
      "text/plain": [
       "Index(['AGE', 'CEA Level', 'Polyp Size (mm)', 'Type of Colon Cancer',\n",
       "       'Tumor Grade', 'Colonoscopy Result_Normal', 'Family History_Yes',\n",
       "       'Biopsy Result_Positive', 'Lymph Node Involvement_Yes',\n",
       "       'Bowel Obstruction_Yes', 'Smoking History_Smoker'],\n",
       "      dtype='object')"
      ]
     },
     "execution_count": 197,
     "metadata": {},
     "output_type": "execute_result"
    }
   ],
   "source": [
    "merged_dataset.columns"
   ]
  },
  {
   "cell_type": "code",
   "execution_count": 198,
   "id": "dadb2006-04e5-4233-86da-59a94e99acca",
   "metadata": {},
   "outputs": [
    {
     "data": {
      "image/png": "[encoded data removed]",
      "text/plain": [
       "<Figure size 640x480 with 1 Axes>"
      ]
     },
     "metadata": {},
     "output_type": "display_data"
    },
    {
     "data": {
      "image/png": "[encoded data removed]",
      "text/plain": [
       "<Figure size 640x480 with 1 Axes>"
      ]
     },
     "metadata": {},
     "output_type": "display_data"
    },
    {
     "data": {
      "image/png": "[encoded data removed]",
      "text/plain": [
       "<Figure size 640x480 with 1 Axes>"
      ]
     },
     "metadata": {},
     "output_type": "display_data"
    }
   ],
   "source": [
    "num_cols=['AGE', 'CEA Level', 'Polyp Size (mm)']\n",
    "for col in num_cols:\n",
    "    merged_dataset[col].plot(kind='box')\n",
    "    plt.title(col)\n",
    "    plt.show()"
   ]
  },
  {
   "cell_type": "markdown",
   "id": "f5d8f2fb-eaa7-40d1-b8d9-6fe6410160f9",
   "metadata": {},
   "source": [
    "## <b><u>Splitting the dataset"
   ]
  },
  {
   "cell_type": "code",
   "execution_count": 199,
   "id": "d8285da8-879f-47f7-9bb5-efd05c8782c4",
   "metadata": {},
   "outputs": [],
   "source": [
    "x=merged_dataset.drop('Type of Colon Cancer',axis=1)"
   ]
  },
  {
   "cell_type": "code",
   "execution_count": 200,
   "id": "18b4a0d6-bafc-489a-908f-7562b72f8080",
   "metadata": {},
   "outputs": [],
   "source": [
    "y=merged_dataset['Type of Colon Cancer']"
   ]
  },
  {
   "cell_type": "code",
   "execution_count": 201,
   "id": "94a55353-8e19-4fcc-9863-279ab8b989c4",
   "metadata": {},
   "outputs": [
    {
     "name": "stdout",
     "output_type": "stream",
     "text": [
      "(7140, 10) (7140,)\n"
     ]
    }
   ],
   "source": [
    "print(x.shape,y.shape)"
   ]
  },
  {
   "cell_type": "code",
   "execution_count": 202,
   "id": "859d5235-3df9-4bf0-a25b-fda6cd477d8f",
   "metadata": {},
   "outputs": [
    {
     "data": {
      "text/html": [
       "<div>\n",
       "<style scoped>\n",
       "    .dataframe tbody tr th:only-of-type {\n",
       "        vertical-align: middle;\n",
       "    }\n",
       "\n",
       "    .dataframe tbody tr th {\n",
       "        vertical-align: top;\n",
       "    }\n",
       "\n",
       "    .dataframe thead th {\n",
       "        text-align: right;\n",
       "    }\n",
       "</style>\n",
       "<table border=\"1\" class=\"dataframe\">\n",
       "  <thead>\n",
       "    <tr style=\"text-align: right;\">\n",
       "      <th></th>\n",
       "      <th>AGE</th>\n",
       "      <th>CEA Level</th>\n",
       "      <th>Polyp Size (mm)</th>\n",
       "      <th>Tumor Grade</th>\n",
       "      <th>Colonoscopy Result_Normal</th>\n",
       "      <th>Family History_Yes</th>\n",
       "      <th>Biopsy Result_Positive</th>\n",
       "      <th>Lymph Node Involvement_Yes</th>\n",
       "      <th>Bowel Obstruction_Yes</th>\n",
       "      <th>Smoking History_Smoker</th>\n",
       "    </tr>\n",
       "  </thead>\n",
       "  <tbody>\n",
       "    <tr>\n",
       "      <th>0</th>\n",
       "      <td>78</td>\n",
       "      <td>17.36141</td>\n",
       "      <td>14.969663</td>\n",
       "      <td>3</td>\n",
       "      <td>1</td>\n",
       "      <td>0</td>\n",
       "      <td>0</td>\n",
       "      <td>1</td>\n",
       "      <td>0</td>\n",
       "      <td>0</td>\n",
       "    </tr>\n",
       "    <tr>\n",
       "      <th>1</th>\n",
       "      <td>78</td>\n",
       "      <td>17.36141</td>\n",
       "      <td>14.969663</td>\n",
       "      <td>2</td>\n",
       "      <td>1</td>\n",
       "      <td>0</td>\n",
       "      <td>1</td>\n",
       "      <td>1</td>\n",
       "      <td>0</td>\n",
       "      <td>0</td>\n",
       "    </tr>\n",
       "    <tr>\n",
       "      <th>2</th>\n",
       "      <td>78</td>\n",
       "      <td>17.36141</td>\n",
       "      <td>14.969663</td>\n",
       "      <td>2</td>\n",
       "      <td>1</td>\n",
       "      <td>0</td>\n",
       "      <td>1</td>\n",
       "      <td>0</td>\n",
       "      <td>0</td>\n",
       "      <td>1</td>\n",
       "    </tr>\n",
       "    <tr>\n",
       "      <th>3</th>\n",
       "      <td>78</td>\n",
       "      <td>17.36141</td>\n",
       "      <td>14.969663</td>\n",
       "      <td>3</td>\n",
       "      <td>1</td>\n",
       "      <td>0</td>\n",
       "      <td>0</td>\n",
       "      <td>1</td>\n",
       "      <td>0</td>\n",
       "      <td>1</td>\n",
       "    </tr>\n",
       "    <tr>\n",
       "      <th>4</th>\n",
       "      <td>78</td>\n",
       "      <td>17.36141</td>\n",
       "      <td>14.969663</td>\n",
       "      <td>2</td>\n",
       "      <td>1</td>\n",
       "      <td>0</td>\n",
       "      <td>0</td>\n",
       "      <td>1</td>\n",
       "      <td>1</td>\n",
       "      <td>0</td>\n",
       "    </tr>\n",
       "  </tbody>\n",
       "</table>\n",
       "</div>"
      ],
      "text/plain": [
       "   AGE  CEA Level  Polyp Size (mm)  Tumor Grade  Colonoscopy Result_Normal  \\\n",
       "0   78   17.36141        14.969663            3                          1   \n",
       "1   78   17.36141        14.969663            2                          1   \n",
       "2   78   17.36141        14.969663            2                          1   \n",
       "3   78   17.36141        14.969663            3                          1   \n",
       "4   78   17.36141        14.969663            2                          1   \n",
       "\n",
       "   Family History_Yes  Biopsy Result_Positive  Lymph Node Involvement_Yes  \\\n",
       "0                   0                       0                           1   \n",
       "1                   0                       1                           1   \n",
       "2                   0                       1                           0   \n",
       "3                   0                       0                           1   \n",
       "4                   0                       0                           1   \n",
       "\n",
       "   Bowel Obstruction_Yes  Smoking History_Smoker  \n",
       "0                      0                       0  \n",
       "1                      0                       0  \n",
       "2                      0                       1  \n",
       "3                      0                       1  \n",
       "4                      1                       0  "
      ]
     },
     "execution_count": 202,
     "metadata": {},
     "output_type": "execute_result"
    }
   ],
   "source": [
    "x.head()"
   ]
  },
  {
   "cell_type": "code",
   "execution_count": 203,
   "id": "3d582d8a-893c-4994-96c3-fb392f7fd9d4",
   "metadata": {},
   "outputs": [
    {
     "data": {
      "text/plain": [
       "0    1\n",
       "1    1\n",
       "2    1\n",
       "3    1\n",
       "4    1\n",
       "Name: Type of Colon Cancer, dtype: int64"
      ]
     },
     "execution_count": 203,
     "metadata": {},
     "output_type": "execute_result"
    }
   ],
   "source": [
    "y.head()"
   ]
  },
  {
   "cell_type": "code",
   "execution_count": 204,
   "id": "7f8ad4d3-93af-4345-9049-a0b3a3215d4a",
   "metadata": {},
   "outputs": [],
   "source": [
    "from sklearn.model_selection import train_test_split"
   ]
  },
  {
   "cell_type": "code",
   "execution_count": 205,
   "id": "5271607f-cbec-4dfc-98d2-298801017f2c",
   "metadata": {},
   "outputs": [],
   "source": [
    "x_train,x_test,y_train,y_test=train_test_split(x,y,test_size=0.2,random_state=42)"
   ]
  },
  {
   "cell_type": "code",
   "execution_count": 206,
   "id": "b7e80981-e85f-4d17-aa26-b39ba673017b",
   "metadata": {},
   "outputs": [
    {
     "name": "stdout",
     "output_type": "stream",
     "text": [
      "(5712, 10) (1428, 10) (5712,) (1428,)\n"
     ]
    }
   ],
   "source": [
    "print(x_train.shape,x_test.shape,y_train.shape,y_test.shape)"
   ]
  },
  {
   "cell_type": "markdown",
   "id": "e0c90401-469d-468c-a126-27912906fbd6",
   "metadata": {},
   "source": [
    "### <B><U>Model development"
   ]
  },
  {
   "cell_type": "code",
   "execution_count": 207,
   "id": "805953b7-749c-4c99-8aa0-fb78485ce009",
   "metadata": {},
   "outputs": [],
   "source": [
    "from sklearn.linear_model import LogisticRegression\n",
    "from sklearn.tree import DecisionTreeClassifier\n",
    "from sklearn.ensemble import RandomForestClassifier\n",
    "from sklearn.ensemble import ExtraTreesClassifier\n",
    "from sklearn.svm import SVC\n",
    "from sklearn.neighbors import KNeighborsClassifier\n",
    "from sklearn.ensemble import GradientBoostingClassifier\n",
    "from sklearn.ensemble import AdaBoostClassifier\n"
   ]
  },
  {
   "cell_type": "markdown",
   "id": "69e029a4-39bb-480e-8fce-2c0def6f62f0",
   "metadata": {},
   "source": [
    "### <b><u>Importing the model evaluation metrics"
   ]
  },
  {
   "cell_type": "code",
   "execution_count": 208,
   "id": "87f76b01-1475-48b8-8d13-7aec4eec69a3",
   "metadata": {},
   "outputs": [],
   "source": [
    "from sklearn.metrics import confusion_matrix,accuracy_score,f1_score,classification_report\n",
    "from sklearn.model_selection import cross_val_score"
   ]
  },
  {
   "cell_type": "markdown",
   "id": "883e42c6-7887-4688-b795-fe4cf9e1cf44",
   "metadata": {},
   "source": [
    "### <B><u>Create the object of each model"
   ]
  },
  {
   "cell_type": "code",
   "execution_count": 209,
   "id": "8ed0fee5-1a07-4a0e-b923-322937236137",
   "metadata": {},
   "outputs": [],
   "source": [
    "LR=LogisticRegression()\n",
    "DT=DecisionTreeClassifier()\n",
    "RF=RandomForestClassifier()\n",
    "ETC=ExtraTreesClassifier()\n",
    "SVM=SVC()\n",
    "KNN=KNeighborsClassifier()\n",
    "GBC=GradientBoostingClassifier()\n",
    "ABC=AdaBoostClassifier()"
   ]
  },
  {
   "cell_type": "markdown",
   "id": "31fb6d93-77c3-47f8-a18f-01787554f9ca",
   "metadata": {},
   "source": [
    "### <b><u>Create a pipeline - accuracy of the model with cross validation"
   ]
  },
  {
   "cell_type": "code",
   "execution_count": 216,
   "id": "4fe24c0d-b5aa-4b58-a0fe-58da374c9ca4",
   "metadata": {},
   "outputs": [
    {
     "data": {
      "text/html": [
       "<div>\n",
       "<style scoped>\n",
       "    .dataframe tbody tr th:only-of-type {\n",
       "        vertical-align: middle;\n",
       "    }\n",
       "\n",
       "    .dataframe tbody tr th {\n",
       "        vertical-align: top;\n",
       "    }\n",
       "\n",
       "    .dataframe thead th {\n",
       "        text-align: right;\n",
       "    }\n",
       "</style>\n",
       "<table border=\"1\" class=\"dataframe\">\n",
       "  <thead>\n",
       "    <tr style=\"text-align: right;\">\n",
       "      <th></th>\n",
       "      <th>Model</th>\n",
       "      <th>Cross_Val_Accuracy</th>\n",
       "    </tr>\n",
       "  </thead>\n",
       "  <tbody>\n",
       "    <tr>\n",
       "      <th>3</th>\n",
       "      <td>ExtraTreesClassifier</td>\n",
       "      <td>57.745098</td>\n",
       "    </tr>\n",
       "    <tr>\n",
       "      <th>2</th>\n",
       "      <td>RandomForestClassifier</td>\n",
       "      <td>46.162465</td>\n",
       "    </tr>\n",
       "    <tr>\n",
       "      <th>7</th>\n",
       "      <td>AdaBoostClassifier</td>\n",
       "      <td>43.501401</td>\n",
       "    </tr>\n",
       "    <tr>\n",
       "      <th>0</th>\n",
       "      <td>LogisticRegression</td>\n",
       "      <td>41.554622</td>\n",
       "    </tr>\n",
       "    <tr>\n",
       "      <th>4</th>\n",
       "      <td>SVC</td>\n",
       "      <td>41.064426</td>\n",
       "    </tr>\n",
       "    <tr>\n",
       "      <th>6</th>\n",
       "      <td>GradientBoostingClassifier</td>\n",
       "      <td>36.708683</td>\n",
       "    </tr>\n",
       "    <tr>\n",
       "      <th>1</th>\n",
       "      <td>DecisionTreeClassifier</td>\n",
       "      <td>29.411765</td>\n",
       "    </tr>\n",
       "    <tr>\n",
       "      <th>5</th>\n",
       "      <td>KNeighborsClassifier</td>\n",
       "      <td>29.215686</td>\n",
       "    </tr>\n",
       "  </tbody>\n",
       "</table>\n",
       "</div>"
      ],
      "text/plain": [
       "                        Model  Cross_Val_Accuracy\n",
       "3        ExtraTreesClassifier           57.745098\n",
       "2      RandomForestClassifier           46.162465\n",
       "7          AdaBoostClassifier           43.501401\n",
       "0          LogisticRegression           41.554622\n",
       "4                         SVC           41.064426\n",
       "6  GradientBoostingClassifier           36.708683\n",
       "1      DecisionTreeClassifier           29.411765\n",
       "5        KNeighborsClassifier           29.215686"
      ]
     },
     "execution_count": 216,
     "metadata": {},
     "output_type": "execute_result"
    }
   ],
   "source": [
    "models=[LR, DT, RF, ETC, SVM, KNN, GBC, ABC]\n",
    "features=x\n",
    "labels=y\n",
    "CV=5\n",
    "accu_list=[]\n",
    "ModelName=[]\n",
    "\n",
    "for model in models:\n",
    "    modelname=model.__class__.__name__\n",
    "    accuracies=cross_val_score(model,features,labels,scoring='accuracy',cv=CV)\n",
    "    accu_list.append(accuracies.mean()*100)\n",
    "    ModelName.append(modelname)\n",
    "\n",
    "model_acc_merged_dataset=pd.DataFrame({\"Model\":ModelName,\"Cross_Val_Accuracy\":accu_list})\n",
    "model_acc_merged_dataset=model_acc_merged_dataset.sort_values(\"Cross_Val_Accuracy\",ascending=False)\n",
    "model_acc_merged_dataset"
   ]
  },
  {
   "cell_type": "code",
   "execution_count": 217,
   "id": "3fee51d5-fb84-4e1d-b68a-f8c2f6d83589",
   "metadata": {},
   "outputs": [
    {
     "name": "stdout",
     "output_type": "stream",
     "text": [
      "Best model with highest accuracy :\n",
      "ExtraTreesClassifier with 57.75 % Accuracy\n"
     ]
    }
   ],
   "source": [
    "print('Best model with highest accuracy :')\n",
    "print(f'{model_acc_merged_dataset.iloc[0,0]} with {round(model_acc_merged_dataset.iloc[0,1],2)} % Accuracy')"
   ]
  },
  {
   "cell_type": "code",
   "execution_count": 218,
   "id": "0b624870-8bde-4ec0-8372-dfb573b500cd",
   "metadata": {},
   "outputs": [
    {
     "name": "stdout",
     "output_type": "stream",
     "text": [
      "Evaluation metric for ExtraTreesClassifier\n",
      "\n",
      "              precision    recall  f1-score   support\n",
      "\n",
      "           1       0.87      0.89      0.88       455\n",
      "           2       0.86      0.91      0.88       585\n",
      "           3       0.89      0.78      0.83       388\n",
      "\n",
      "    accuracy                           0.87      1428\n",
      "   macro avg       0.87      0.86      0.87      1428\n",
      "weighted avg       0.87      0.87      0.87      1428\n",
      "\n"
     ]
    }
   ],
   "source": [
    "print(f'Evaluation metric for {model_acc_merged_dataset.iloc[0,0]}')\n",
    "ETC.fit(x_train,y_train)\n",
    "y_pred=ETC.predict(x_test)\n",
    "print(\"\")\n",
    "print(classification_report(y_test,y_pred))"
   ]
  },
  {
   "cell_type": "code",
   "execution_count": 219,
   "id": "48d60c7f-7829-43b5-bb41-c9fa09df87ac",
   "metadata": {},
   "outputs": [
    {
     "name": "stdout",
     "output_type": "stream",
     "text": [
      "[[405  33  17]\n",
      " [ 32 532  21]\n",
      " [ 28  56 304]]\n"
     ]
    },
    {
     "data": {
      "image/png": "[encoded data removed]",
      "text/plain": [
       "<Figure size 640x480 with 2 Axes>"
      ]
     },
     "metadata": {},
     "output_type": "display_data"
    }
   ],
   "source": [
    "cm=confusion_matrix(y_test,y_pred)\n",
    "sns.heatmap(cm,annot=True,fmt=\".0f\")\n",
    "print(cm)"
   ]
  },
  {
   "cell_type": "markdown",
   "id": "71ee3bde-7bee-4557-b97a-589448e58039",
   "metadata": {},
   "source": [
    "### <B><u>Predictive system using ExtraTreesClassifier:"
   ]
  },
  {
   "cell_type": "code",
   "execution_count": 221,
   "id": "b210cbc4-a895-4a9c-b6ac-33b3c653e3ab",
   "metadata": {},
   "outputs": [
    {
     "data": {
      "text/html": [
       "<div>\n",
       "<style scoped>\n",
       "    .dataframe tbody tr th:only-of-type {\n",
       "        vertical-align: middle;\n",
       "    }\n",
       "\n",
       "    .dataframe tbody tr th {\n",
       "        vertical-align: top;\n",
       "    }\n",
       "\n",
       "    .dataframe thead th {\n",
       "        text-align: right;\n",
       "    }\n",
       "</style>\n",
       "<table border=\"1\" class=\"dataframe\">\n",
       "  <thead>\n",
       "    <tr style=\"text-align: right;\">\n",
       "      <th></th>\n",
       "      <th>AGE</th>\n",
       "      <th>CEA Level</th>\n",
       "      <th>Polyp Size (mm)</th>\n",
       "      <th>Type of Colon Cancer</th>\n",
       "      <th>Tumor Grade</th>\n",
       "      <th>Colonoscopy Result_Normal</th>\n",
       "      <th>Family History_Yes</th>\n",
       "      <th>Biopsy Result_Positive</th>\n",
       "      <th>Lymph Node Involvement_Yes</th>\n",
       "      <th>Bowel Obstruction_Yes</th>\n",
       "      <th>Smoking History_Smoker</th>\n",
       "    </tr>\n",
       "  </thead>\n",
       "  <tbody>\n",
       "    <tr>\n",
       "      <th>0</th>\n",
       "      <td>78</td>\n",
       "      <td>17.36141</td>\n",
       "      <td>14.969663</td>\n",
       "      <td>1</td>\n",
       "      <td>3</td>\n",
       "      <td>1</td>\n",
       "      <td>0</td>\n",
       "      <td>0</td>\n",
       "      <td>1</td>\n",
       "      <td>0</td>\n",
       "      <td>0</td>\n",
       "    </tr>\n",
       "    <tr>\n",
       "      <th>1</th>\n",
       "      <td>78</td>\n",
       "      <td>17.36141</td>\n",
       "      <td>14.969663</td>\n",
       "      <td>1</td>\n",
       "      <td>2</td>\n",
       "      <td>1</td>\n",
       "      <td>0</td>\n",
       "      <td>1</td>\n",
       "      <td>1</td>\n",
       "      <td>0</td>\n",
       "      <td>0</td>\n",
       "    </tr>\n",
       "    <tr>\n",
       "      <th>2</th>\n",
       "      <td>78</td>\n",
       "      <td>17.36141</td>\n",
       "      <td>14.969663</td>\n",
       "      <td>1</td>\n",
       "      <td>2</td>\n",
       "      <td>1</td>\n",
       "      <td>0</td>\n",
       "      <td>1</td>\n",
       "      <td>0</td>\n",
       "      <td>0</td>\n",
       "      <td>1</td>\n",
       "    </tr>\n",
       "    <tr>\n",
       "      <th>3</th>\n",
       "      <td>78</td>\n",
       "      <td>17.36141</td>\n",
       "      <td>14.969663</td>\n",
       "      <td>1</td>\n",
       "      <td>3</td>\n",
       "      <td>1</td>\n",
       "      <td>0</td>\n",
       "      <td>0</td>\n",
       "      <td>1</td>\n",
       "      <td>0</td>\n",
       "      <td>1</td>\n",
       "    </tr>\n",
       "    <tr>\n",
       "      <th>4</th>\n",
       "      <td>78</td>\n",
       "      <td>17.36141</td>\n",
       "      <td>14.969663</td>\n",
       "      <td>1</td>\n",
       "      <td>2</td>\n",
       "      <td>1</td>\n",
       "      <td>0</td>\n",
       "      <td>0</td>\n",
       "      <td>1</td>\n",
       "      <td>1</td>\n",
       "      <td>0</td>\n",
       "    </tr>\n",
       "  </tbody>\n",
       "</table>\n",
       "</div>"
      ],
      "text/plain": [
       "   AGE  CEA Level  Polyp Size (mm)  Type of Colon Cancer  Tumor Grade  \\\n",
       "0   78   17.36141        14.969663                     1            3   \n",
       "1   78   17.36141        14.969663                     1            2   \n",
       "2   78   17.36141        14.969663                     1            2   \n",
       "3   78   17.36141        14.969663                     1            3   \n",
       "4   78   17.36141        14.969663                     1            2   \n",
       "\n",
       "   Colonoscopy Result_Normal  Family History_Yes  Biopsy Result_Positive  \\\n",
       "0                          1                   0                       0   \n",
       "1                          1                   0                       1   \n",
       "2                          1                   0                       1   \n",
       "3                          1                   0                       0   \n",
       "4                          1                   0                       0   \n",
       "\n",
       "   Lymph Node Involvement_Yes  Bowel Obstruction_Yes  Smoking History_Smoker  \n",
       "0                           1                      0                       0  \n",
       "1                           1                      0                       0  \n",
       "2                           0                      0                       1  \n",
       "3                           1                      0                       1  \n",
       "4                           1                      1                       0  "
      ]
     },
     "execution_count": 221,
     "metadata": {},
     "output_type": "execute_result"
    }
   ],
   "source": [
    "# sample_data_1={}\n",
    "merged_dataset.head(5)"
   ]
  },
  {
   "cell_type": "code",
   "execution_count": 229,
   "id": "a4d69ac8-e4ee-4b19-b526-2dcf9cffe620",
   "metadata": {},
   "outputs": [
    {
     "data": {
      "text/html": [
       "<div>\n",
       "<style scoped>\n",
       "    .dataframe tbody tr th:only-of-type {\n",
       "        vertical-align: middle;\n",
       "    }\n",
       "\n",
       "    .dataframe tbody tr th {\n",
       "        vertical-align: top;\n",
       "    }\n",
       "\n",
       "    .dataframe thead th {\n",
       "        text-align: right;\n",
       "    }\n",
       "</style>\n",
       "<table border=\"1\" class=\"dataframe\">\n",
       "  <thead>\n",
       "    <tr style=\"text-align: right;\">\n",
       "      <th></th>\n",
       "      <th>AGE</th>\n",
       "      <th>CEA Level</th>\n",
       "      <th>Polyp Size (mm)</th>\n",
       "      <th>Type of Colon Cancer</th>\n",
       "      <th>Tumor Grade</th>\n",
       "      <th>Colonoscopy Result_Normal</th>\n",
       "      <th>Family History_Yes</th>\n",
       "      <th>Biopsy Result_Positive</th>\n",
       "      <th>Lymph Node Involvement_Yes</th>\n",
       "      <th>Bowel Obstruction_Yes</th>\n",
       "      <th>Smoking History_Smoker</th>\n",
       "    </tr>\n",
       "  </thead>\n",
       "  <tbody>\n",
       "    <tr>\n",
       "      <th>66</th>\n",
       "      <td>54</td>\n",
       "      <td>12.445401</td>\n",
       "      <td>44.941506</td>\n",
       "      <td>3</td>\n",
       "      <td>3</td>\n",
       "      <td>1</td>\n",
       "      <td>1</td>\n",
       "      <td>1</td>\n",
       "      <td>1</td>\n",
       "      <td>1</td>\n",
       "      <td>0</td>\n",
       "    </tr>\n",
       "    <tr>\n",
       "      <th>67</th>\n",
       "      <td>54</td>\n",
       "      <td>12.445401</td>\n",
       "      <td>44.941506</td>\n",
       "      <td>3</td>\n",
       "      <td>2</td>\n",
       "      <td>1</td>\n",
       "      <td>1</td>\n",
       "      <td>0</td>\n",
       "      <td>0</td>\n",
       "      <td>0</td>\n",
       "      <td>0</td>\n",
       "    </tr>\n",
       "    <tr>\n",
       "      <th>68</th>\n",
       "      <td>54</td>\n",
       "      <td>12.445401</td>\n",
       "      <td>44.941506</td>\n",
       "      <td>3</td>\n",
       "      <td>1</td>\n",
       "      <td>1</td>\n",
       "      <td>1</td>\n",
       "      <td>0</td>\n",
       "      <td>1</td>\n",
       "      <td>1</td>\n",
       "      <td>0</td>\n",
       "    </tr>\n",
       "    <tr>\n",
       "      <th>69</th>\n",
       "      <td>54</td>\n",
       "      <td>12.445401</td>\n",
       "      <td>44.941506</td>\n",
       "      <td>3</td>\n",
       "      <td>2</td>\n",
       "      <td>1</td>\n",
       "      <td>1</td>\n",
       "      <td>1</td>\n",
       "      <td>1</td>\n",
       "      <td>0</td>\n",
       "      <td>0</td>\n",
       "    </tr>\n",
       "    <tr>\n",
       "      <th>70</th>\n",
       "      <td>54</td>\n",
       "      <td>12.445401</td>\n",
       "      <td>44.941506</td>\n",
       "      <td>3</td>\n",
       "      <td>1</td>\n",
       "      <td>1</td>\n",
       "      <td>1</td>\n",
       "      <td>1</td>\n",
       "      <td>0</td>\n",
       "      <td>1</td>\n",
       "      <td>0</td>\n",
       "    </tr>\n",
       "  </tbody>\n",
       "</table>\n",
       "</div>"
      ],
      "text/plain": [
       "    AGE  CEA Level  Polyp Size (mm)  Type of Colon Cancer  Tumor Grade  \\\n",
       "66   54  12.445401        44.941506                     3            3   \n",
       "67   54  12.445401        44.941506                     3            2   \n",
       "68   54  12.445401        44.941506                     3            1   \n",
       "69   54  12.445401        44.941506                     3            2   \n",
       "70   54  12.445401        44.941506                     3            1   \n",
       "\n",
       "    Colonoscopy Result_Normal  Family History_Yes  Biopsy Result_Positive  \\\n",
       "66                          1                   1                       1   \n",
       "67                          1                   1                       0   \n",
       "68                          1                   1                       0   \n",
       "69                          1                   1                       1   \n",
       "70                          1                   1                       1   \n",
       "\n",
       "    Lymph Node Involvement_Yes  Bowel Obstruction_Yes  Smoking History_Smoker  \n",
       "66                           1                      1                       0  \n",
       "67                           0                      0                       0  \n",
       "68                           1                      1                       0  \n",
       "69                           1                      0                       0  \n",
       "70                           0                      1                       0  "
      ]
     },
     "execution_count": 229,
     "metadata": {},
     "output_type": "execute_result"
    }
   ],
   "source": [
    "# merged_dataset[merged_dataset['Type of Colon Cancer']==3][0:5]"
   ]
  },
  {
   "cell_type": "code",
   "execution_count": 226,
   "id": "a552e172-87e9-4ed0-ade9-022130d7f0f5",
   "metadata": {},
   "outputs": [],
   "source": [
    "sample_type_1={78,17.36141,14.969663,3,1,0,0,1,0,0}\n",
    "sample_type_2={47,8.935027,26.701058,3,1,0,0,1,1,1}\n",
    "sample_type_3={54,12.445401,44.941506,3,1,1,1,1,1,0}"
   ]
  },
  {
   "cell_type": "code",
   "execution_count": 227,
   "id": "ccd820b2-ff9b-4d54-858f-d37a3074a31f",
   "metadata": {},
   "outputs": [
    {
     "data": {
      "text/plain": [
       "AGE                             int64\n",
       "CEA Level                     float64\n",
       "Polyp Size (mm)               float64\n",
       "Type of Colon Cancer            int64\n",
       "Tumor Grade                     int64\n",
       "Colonoscopy Result_Normal       int32\n",
       "Family History_Yes              int32\n",
       "Biopsy Result_Positive          int32\n",
       "Lymph Node Involvement_Yes      int32\n",
       "Bowel Obstruction_Yes           int32\n",
       "Smoking History_Smoker          int32\n",
       "dtype: object"
      ]
     },
     "execution_count": 227,
     "metadata": {},
     "output_type": "execute_result"
    }
   ],
   "source": [
    "merged_dataset.dtypes"
   ]
  },
  {
   "cell_type": "code",
   "execution_count": 289,
   "id": "ecd736c5-95c5-463b-919b-d52b51a36312",
   "metadata": {},
   "outputs": [
    {
     "name": "stdin",
     "output_type": "stream",
     "text": [
      "Enter the AGE : 70\n",
      "Enter the CEA Level : 17\n",
      "Enter the Polyp Size (mm) : 14\n",
      "Enter the Tumor Grade : 3\n",
      "Enter the Colonoscopy Result_Normal : 1\n",
      "Enter the Family History_Yes : 0\n",
      "Enter the Biopsy Result_Positive : 0\n",
      "Enter the Lymph Node Involvement_Yes : 1\n",
      "Enter the Bowel Obstruction_Yes : 0\n",
      "Enter the Smoking History_Smoker : 0\n"
     ]
    },
    {
     "name": "stdout",
     "output_type": "stream",
     "text": [
      "\n",
      "******************************************************************************************\n",
      "The patient has type 1 Colon Cancer\n",
      "******************************************************************************************\n"
     ]
    }
   ],
   "source": [
    "AGE = int(input(\"Enter the AGE :\"))\n",
    "CEA_Level = float(input(\"Enter the CEA Level :\"))\n",
    "Polyp_Size_mm = float(input(\"Enter the Polyp Size (mm) :\"))\n",
    "Tumor_Grade = int(input(\"Enter the Tumor Grade :\"))\n",
    "Colonoscopy_Result_Normal = int(input(\"Enter the Colonoscopy Result_Normal :\"))\n",
    "Family_History_Yes = int(input(\"Enter the Family History_Yes :\"))\n",
    "Biopsy_Result_Positive = int(input(\"Enter the Biopsy Result_Positive :\"))\n",
    "Lymph_Node_Involvement_Yes = int(input(\"Enter the Lymph Node Involvement_Yes :\"))\n",
    "Bowel_Obstruction_Yes = int(input(\"Enter the Bowel Obstruction_Yes :\"))\n",
    "Smoking_History_Smoker = int(input(\"Enter the Smoking History_Smoker :\"))\n",
    "\n",
    "data=pd.DataFrame({'AGE':[AGE],\n",
    "                   'CEA Level':[CEA_Level],\n",
    "                   'Polyp Size (mm)':[Polyp_Size_mm],\n",
    "                   'Tumor Grade':[Tumor_Grade],\n",
    "                   'Colonoscopy Result_Normal':[Colonoscopy_Result_Normal],\n",
    "                   'Family History_Yes':[Family_History_Yes],\n",
    "                   'Biopsy Result_Positive':[Biopsy_Result_Positive],\n",
    "                   'Lymph Node Involvement_Yes':[Lymph_Node_Involvement_Yes],\n",
    "                   'Bowel Obstruction_Yes':[Bowel_Obstruction_Yes],\n",
    "                   'Smoking History_Smoker':[Smoking_History_Smoker]})\n",
    "print()\n",
    "print('*'*90)\n",
    "\n",
    "predictions=ETC.predict(data)\n",
    "for prediction in predictions:\n",
    "    if prediction==1:\n",
    "        print(f\"The patient has type {prediction} Colon Cancer\")\n",
    "        print('*'*90)\n",
    "    elif prediction==2:\n",
    "        print(f\"The patient has type {prediction} Colon Cancer\")\n",
    "        print('*'*90)\n",
    "    elif prediction==3:\n",
    "        print(f\"The patient has type {prediction} Colon Cancer\")\n",
    "        print('*'*90)\n",
    "    else:\n",
    "        print(f\"The patient has no cancer\")\n",
    "        print('*'*90)"
   ]
  },
  {
   "cell_type": "markdown",
   "id": "ac83bd67-91ee-429a-8b73-73dff3944607",
   "metadata": {},
   "source": [
    "<div style=\"text-align:center;\"><h1> Thank you </div>"
   ]
  },
  {
   "cell_type": "code",
   "execution_count": null,
   "id": "05b3342d-00ab-4ad3-814d-4cfe32f8b6cf",
   "metadata": {},
   "outputs": [],
   "source": []
  }
 ],
 "metadata": {
  "kernelspec": {
   "display_name": "Python 3 (ipykernel)",
   "language": "python",
   "name": "python3"
  },
  "language_info": {
   "codemirror_mode": {
    "name": "ipython",
    "version": 3
   },
   "file_extension": ".py",
   "mimetype": "text/x-python",
   "name": "python",
   "nbconvert_exporter": "python",
   "pygments_lexer": "ipython3",
   "version": "3.12.3"
  }
 },
 "nbformat": 4,
 "nbformat_minor": 5
}
